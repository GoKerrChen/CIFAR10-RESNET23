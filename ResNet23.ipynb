{
  "cells": [
    {
      "cell_type": "code",
      "execution_count": null,
      "metadata": {
        "id": "CY4Iciw5VAhs"
      },
      "outputs": [],
      "source": [
        "import torch\n",
        "import torch.nn as nn\n",
        "import torch.nn.functional as F\n",
        "from torch.utils.data import DataLoader\n",
        "from torchvision import datasets, transforms\n",
        "import pandas as pd\n",
        "import numpy as np\n",
        "from torchvision.utils import make_grid\n",
        "import matplotlib.pyplot as plt\n",
        "%matplotlib inline\n"
      ]
    },
    {
      "cell_type": "code",
      "execution_count": null,
      "metadata": {
        "id": "nTiO8oWsaIFn"
      },
      "outputs": [],
      "source": [
        "device = torch.device('cuda' if torch.cuda.is_available() else 'cpu')"
      ]
    },
    {
      "cell_type": "code",
      "execution_count": null,
      "metadata": {
        "id": "Gy8j8j1Ka5hH"
      },
      "outputs": [],
      "source": [
        "train_transform = transforms.Compose([#Compose multi transform functions\n",
        "              transforms.RandomCrop(size = (32, 32), padding = 4)  ,#Random copping\n",
        "              transforms.RandomHorizontalFlip(),#Random horizontal flip\n",
        "              transforms.ToTensor(),\n",
        "              transforms.Normalize(mean=[0.4914, 0.4822, 0.4465],std=[0.2471, 0.2435, 0.2616])                         \n",
        "])\n",
        "\n",
        "test_transform = transforms.Compose([\n",
        "              transforms.ToTensor(),\n",
        "              transforms.Normalize(mean=[0.4914, 0.4822, 0.4465],std=[0.2471, 0.2435, 0.2616])\n",
        "])"
      ]
    },
    {
      "cell_type": "code",
      "execution_count": null,
      "metadata": {
        "colab": {
          "base_uri": "https://localhost:8080/"
        },
        "id": "Ldgz-RE9eovX",
        "outputId": "9f861e9a-c308-4927-b453-0f3de1f9bc30"
      },
      "outputs": [
        {
          "output_type": "stream",
          "name": "stdout",
          "text": [
            "Files already downloaded and verified\n"
          ]
        }
      ],
      "source": [
        "train_data = datasets.CIFAR10(root='data', train=True, transform=train_transform, download=True)\n",
        "test_data = datasets.CIFAR10(root='data', train=False, transform=test_transform)"
      ]
    },
    {
      "cell_type": "code",
      "execution_count": null,
      "metadata": {
        "id": "qrIPb7nOfwrN"
      },
      "outputs": [],
      "source": [
        "valid_transform = test_transform\n",
        "valid_data = test_data"
      ]
    },
    {
      "cell_type": "code",
      "execution_count": null,
      "metadata": {
        "colab": {
          "base_uri": "https://localhost:8080/"
        },
        "id": "Cz1LiyX6fdN4",
        "outputId": "25240b27-1dd6-4999-e2d3-18aa067304e9"
      },
      "outputs": [
        {
          "output_type": "execute_result",
          "data": {
            "text/plain": [
              "Dataset CIFAR10\n",
              "    Number of datapoints: 50000\n",
              "    Root location: data\n",
              "    Split: Train\n",
              "    StandardTransform\n",
              "Transform: Compose(\n",
              "               RandomCrop(size=(32, 32), padding=4)\n",
              "               RandomHorizontalFlip(p=0.5)\n",
              "               ToTensor()\n",
              "               Normalize(mean=[0.4914, 0.4822, 0.4465], std=[0.2471, 0.2435, 0.2616])\n",
              "           )"
            ]
          },
          "metadata": {},
          "execution_count": 86
        }
      ],
      "source": [
        "train_data"
      ]
    },
    {
      "cell_type": "code",
      "execution_count": null,
      "metadata": {
        "colab": {
          "base_uri": "https://localhost:8080/"
        },
        "id": "03ttUSf_f3KM",
        "outputId": "8e91b5de-266a-47b8-f50c-6c9aaff3570a"
      },
      "outputs": [
        {
          "output_type": "execute_result",
          "data": {
            "text/plain": [
              "Dataset CIFAR10\n",
              "    Number of datapoints: 10000\n",
              "    Root location: data\n",
              "    Split: Test\n",
              "    StandardTransform\n",
              "Transform: Compose(\n",
              "               ToTensor()\n",
              "               Normalize(mean=[0.4914, 0.4822, 0.4465], std=[0.2471, 0.2435, 0.2616])\n",
              "           )"
            ]
          },
          "metadata": {},
          "execution_count": 87
        }
      ],
      "source": [
        "test_data"
      ]
    },
    {
      "cell_type": "code",
      "execution_count": null,
      "metadata": {
        "id": "xsjEHo1-f5cE"
      },
      "outputs": [],
      "source": [
        "batch_size = 128\n",
        "train_loader = DataLoader(dataset=train_data, batch_size=128, shuffle=True)\n",
        "test_loader = DataLoader(dataset=test_data, batch_size=128, shuffle=False)\n",
        "valid_loader = test_loader"
      ]
    },
    {
      "cell_type": "code",
      "execution_count": null,
      "metadata": {
        "colab": {
          "base_uri": "https://localhost:8080/",
          "height": 532
        },
        "id": "Yp0_hLVTgf7H",
        "outputId": "21d7c6af-132a-4b2b-acaf-c58f4b88e693"
      },
      "outputs": [
        {
          "output_type": "stream",
          "name": "stderr",
          "text": [
            "Clipping input data to the valid range for imshow with RGB data ([0..1] for floats or [0..255] for integers).\n"
          ]
        },
        {
          "output_type": "stream",
          "name": "stdout",
          "text": [
            "label: [    3     5     9     4     9     8     5     5     3     2     9     2\n",
            "     1     5     9     0     7     5     1     6     0     2     2     7\n",
            "     5     3     5     9     2     3     4     9     7     9     3     3\n",
            "     6     1     0     7     9     5     5     5     7     3     2     8\n",
            "     0     4     9     4     0     1     8     4     3     6     2     0\n",
            "     2     6     8     8     4     3     2     9     4     2     7     5\n",
            "     6     2     3     8     4     4     7     5     9     7     6     6\n",
            "     3     9     0     9     4     7     9     1     8     2     1     7\n",
            "     6     1     5     4     5     2     4     1     4     0     3     5\n",
            "     5     2     3     8     9     8     3     1     7     9     6     8\n",
            "     3     6     3     1     1     5     8     9]\n",
            "class: cat dog truck deer truck ship dog dog cat bird truck bird car dog truck plane horse dog car frog plane bird bird horse dog cat dog truck bird cat deer truck horse truck cat cat frog car plane horse truck dog dog dog horse cat bird ship plane deer truck deer plane car ship deer cat frog bird plane bird frog ship ship deer cat bird truck deer bird horse dog frog bird cat ship deer deer horse dog truck horse frog frog cat truck plane truck deer horse truck car ship bird car horse frog car dog deer dog bird deer car deer plane cat dog dog bird cat ship truck ship cat car horse truck frog ship cat frog cat car car dog ship truck\n"
          ]
        },
        {
          "output_type": "execute_result",
          "data": {
            "text/plain": [
              "<matplotlib.image.AxesImage at 0x7f8d484fed10>"
            ]
          },
          "metadata": {},
          "execution_count": 89
        },
        {
          "output_type": "display_data",
          "data": {
            "image/png": "[encoded data removed]",
            "text/plain": [
              "<Figure size 720x288 with 1 Axes>"
            ]
          },
          "metadata": {
            "needs_background": "light"
          }
        }
      ],
      "source": [
        "class_names = ['plane', 'car', 'bird', 'cat', 'deer', 'dog', 'frog', 'horse', 'ship', 'truck']\n",
        "np.set_printoptions(formatter=dict(int=lambda x: f'{x:5}'))#to widen the printed array\n",
        "#Grab the first batch of 10 images\n",
        "for images, label in train_loader:\n",
        "  break\n",
        "\n",
        "#print the labels\n",
        "print('label:', label.numpy())\n",
        "print('class:', *np.array([class_names[i] for i in label]))\n",
        "\n",
        "#print the images\n",
        "im = make_grid(images, nrow = 10)#the default nrow is 8\n",
        "plt.figure(figsize=(10,4))\n",
        "plt.imshow(np.transpose(im.numpy(), (1, 2, 0)))"
      ]
    },
    {
      "cell_type": "markdown",
      "metadata": {
        "id": "BuVQI5UOaa4Y"
      },
      "source": [
        "### Define Residual Block"
      ]
    },
    {
      "cell_type": "code",
      "execution_count": null,
      "metadata": {
        "id": "huDHpzYJRRj1"
      },
      "outputs": [],
      "source": [
        "import time\n",
        "from torch import nn, optim\n",
        "class Residual(nn.Module):\n",
        "  def __init__(self, in_channels, out_channels, use_1x1conv=False, stride=1):\n",
        "    super(Residual, self).__init__()\n",
        "    self.conv1 = nn.Conv2d(in_channels, out_channels, kernel_size=(3,3), padding=1, stride=stride)\n",
        "    self.conv2 = nn.Conv2d(out_channels, out_channels, kernel_size=(3,3), padding=1, stride=1)\n",
        "    #second conv layer has s=1 but first can be 2 sometimes\n",
        "    if use_1x1conv:\n",
        "      self.conv3 = nn.Conv2d(in_channels, out_channels, kernel_size=(1,1), stride=stride)\n",
        "    else:\n",
        "      self.conv3 = None\n",
        "    \n",
        "    self.bn1 = nn.BatchNorm2d(out_channels)\n",
        "    self.bn2 = nn.BatchNorm2d(out_channels)\n",
        "\n",
        "  def forward(self, X):\n",
        "    Y = F.relu(self.bn1(self.conv1(X)))\n",
        "    Y = self.bn2(self.conv2(Y))\n",
        "    if self.conv3:\n",
        "        X = self.conv3(X)\n",
        "    return F.relu(Y + X)\n"
      ]
    },
    {
      "cell_type": "code",
      "execution_count": null,
      "metadata": {
        "colab": {
          "base_uri": "https://localhost:8080/"
        },
        "id": "NOROZHc3Vvgv",
        "outputId": "8210fe12-4043-4ae2-926d-22a58e1f3805"
      },
      "outputs": [
        {
          "output_type": "execute_result",
          "data": {
            "text/plain": [
              "torch.Size([4, 3, 6, 6])"
            ]
          },
          "metadata": {},
          "execution_count": 91
        }
      ],
      "source": [
        "#case 1\n",
        "blk = Residual(3, 3)\n",
        "X = torch.rand((4, 3, 6, 6))\n",
        "blk(X).shape"
      ]
    },
    {
      "cell_type": "code",
      "execution_count": null,
      "metadata": {
        "colab": {
          "base_uri": "https://localhost:8080/"
        },
        "id": "9GA71xz2ZQg9",
        "outputId": "142b96ad-9ee8-409e-8ced-1fe630914cde"
      },
      "outputs": [
        {
          "output_type": "execute_result",
          "data": {
            "text/plain": [
              "torch.Size([4, 6, 3, 3])"
            ]
          },
          "metadata": {},
          "execution_count": 92
        }
      ],
      "source": [
        "#case 2\n",
        "blk = Residual(3, 6, use_1x1conv=True, stride=2)\n",
        "X = torch.rand((4, 3, 6, 6))\n",
        "blk(X).shape"
      ]
    },
    {
      "cell_type": "markdown",
      "metadata": {
        "id": "0YAxRzJMaXRO"
      },
      "source": [
        "### Define the Model"
      ]
    },
    {
      "cell_type": "code",
      "execution_count": null,
      "metadata": {
        "id": "f9f4I1xSd827"
      },
      "outputs": [],
      "source": [
        "#in resnet 4 residual block makes of 1 block, so resnet_18 = 4x4 + starting 7x7 conv + 1 FC \n",
        "#so resnet23= 4x5 + 7x7 conv + 2FC\n",
        "def resnet_block(in_channels, out_channels, num_residuals, first_block=False):\n",
        "  if first_block:\n",
        "    assert in_channels == out_channels # same channels for in and out\n",
        "  blk = []\n",
        "  for i in range(num_residuals):\n",
        "    if i==0 and not first_block:\n",
        "      blk.append(Residual(in_channels, out_channels, use_1x1conv=True, stride=2))\n",
        "    else:\n",
        "      blk.append(Residual(out_channels, out_channels))\n",
        "  \n",
        "  return nn.Sequential(*blk)\n"
      ]
    },
    {
      "cell_type": "code",
      "execution_count": null,
      "metadata": {
        "id": "AEmLeCgNo3Jg"
      },
      "outputs": [],
      "source": [
        "class Resnet23(torch.nn.Module):\n",
        "  def __init__(self, num_classes):\n",
        "    super(Resnet23, self).__init__()\n",
        "    self.block1 = nn.Sequential(\n",
        "      nn.Conv2d(in_channels=3, out_channels=64, kernel_size=3, padding=1, stride=1),\n",
        "      nn.BatchNorm2d(64),\n",
        "      nn.ReLU(),\n",
        "      nn.MaxPool2d(kernel_size=3, stride=2, padding=1    \n",
        "    ))\n",
        "    self.block2 = nn.Sequential(\n",
        "        resnet_block(64, 64, 2, first_block=True))\n",
        "    self.block3 = nn.Sequential(\n",
        "        resnet_block(64, 128, 2)\n",
        "    )\n",
        "    self.block4 = nn.Sequential(\n",
        "        resnet_block(128, 256, 2)\n",
        "    )\n",
        "    self.block5 = nn.Sequential(\n",
        "        resnet_block(256, 512, 4)\n",
        "    )\n",
        "    self.avgpool = nn.AdaptiveAvgPool2d(output_size=(1, 1))\n",
        "    self.fc1 = nn.Linear(512, 1024)\n",
        "    self.fc2 = nn.Linear(1024, 10)\n",
        "\n",
        "  def forward(self,X):\n",
        "    logits = self.block1(X)\n",
        "    logits = self.block2(logits)\n",
        "    logits = self.block3(logits)\n",
        "    logits = self.block4(logits)\n",
        "    logits = self.block5(logits)\n",
        "    logits = self.avgpool(logits)\n",
        "    logits = logits.reshape(X.shape[0], -1)\n",
        "    logits = self.fc1(logits)\n",
        "    logits = self.fc2(logits)\n",
        "    probas = F.softmax(logits,dim = 1)\n",
        "    return logits, probas"
      ]
    },
    {
      "cell_type": "code",
      "execution_count": null,
      "metadata": {
        "colab": {
          "base_uri": "https://localhost:8080/"
        },
        "id": "CI_gvWcXhfZL",
        "outputId": "1ddda354-9401-460a-e2ae-e4f3f5292e6b"
      },
      "outputs": [
        {
          "output_type": "stream",
          "name": "stdout",
          "text": [
            "Resnet23(\n",
            "  (block1): Sequential(\n",
            "    (0): Conv2d(3, 64, kernel_size=(3, 3), stride=(1, 1), padding=(1, 1))\n",
            "    (1): BatchNorm2d(64, eps=1e-05, momentum=0.1, affine=True, track_running_stats=True)\n",
            "    (2): ReLU()\n",
            "    (3): MaxPool2d(kernel_size=3, stride=2, padding=1, dilation=1, ceil_mode=False)\n",
            "  )\n",
            "  (block2): Sequential(\n",
            "    (0): Sequential(\n",
            "      (0): Residual(\n",
            "        (conv1): Conv2d(64, 64, kernel_size=(3, 3), stride=(1, 1), padding=(1, 1))\n",
            "        (conv2): Conv2d(64, 64, kernel_size=(3, 3), stride=(1, 1), padding=(1, 1))\n",
            "        (bn1): BatchNorm2d(64, eps=1e-05, momentum=0.1, affine=True, track_running_stats=True)\n",
            "        (bn2): BatchNorm2d(64, eps=1e-05, momentum=0.1, affine=True, track_running_stats=True)\n",
            "      )\n",
            "      (1): Residual(\n",
            "        (conv1): Conv2d(64, 64, kernel_size=(3, 3), stride=(1, 1), padding=(1, 1))\n",
            "        (conv2): Conv2d(64, 64, kernel_size=(3, 3), stride=(1, 1), padding=(1, 1))\n",
            "        (bn1): BatchNorm2d(64, eps=1e-05, momentum=0.1, affine=True, track_running_stats=True)\n",
            "        (bn2): BatchNorm2d(64, eps=1e-05, momentum=0.1, affine=True, track_running_stats=True)\n",
            "      )\n",
            "    )\n",
            "  )\n",
            "  (block3): Sequential(\n",
            "    (0): Sequential(\n",
            "      (0): Residual(\n",
            "        (conv1): Conv2d(64, 128, kernel_size=(3, 3), stride=(2, 2), padding=(1, 1))\n",
            "        (conv2): Conv2d(128, 128, kernel_size=(3, 3), stride=(1, 1), padding=(1, 1))\n",
            "        (conv3): Conv2d(64, 128, kernel_size=(1, 1), stride=(2, 2))\n",
            "        (bn1): BatchNorm2d(128, eps=1e-05, momentum=0.1, affine=True, track_running_stats=True)\n",
            "        (bn2): BatchNorm2d(128, eps=1e-05, momentum=0.1, affine=True, track_running_stats=True)\n",
            "      )\n",
            "      (1): Residual(\n",
            "        (conv1): Conv2d(128, 128, kernel_size=(3, 3), stride=(1, 1), padding=(1, 1))\n",
            "        (conv2): Conv2d(128, 128, kernel_size=(3, 3), stride=(1, 1), padding=(1, 1))\n",
            "        (bn1): BatchNorm2d(128, eps=1e-05, momentum=0.1, affine=True, track_running_stats=True)\n",
            "        (bn2): BatchNorm2d(128, eps=1e-05, momentum=0.1, affine=True, track_running_stats=True)\n",
            "      )\n",
            "    )\n",
            "  )\n",
            "  (block4): Sequential(\n",
            "    (0): Sequential(\n",
            "      (0): Residual(\n",
            "        (conv1): Conv2d(128, 256, kernel_size=(3, 3), stride=(2, 2), padding=(1, 1))\n",
            "        (conv2): Conv2d(256, 256, kernel_size=(3, 3), stride=(1, 1), padding=(1, 1))\n",
            "        (conv3): Conv2d(128, 256, kernel_size=(1, 1), stride=(2, 2))\n",
            "        (bn1): BatchNorm2d(256, eps=1e-05, momentum=0.1, affine=True, track_running_stats=True)\n",
            "        (bn2): BatchNorm2d(256, eps=1e-05, momentum=0.1, affine=True, track_running_stats=True)\n",
            "      )\n",
            "      (1): Residual(\n",
            "        (conv1): Conv2d(256, 256, kernel_size=(3, 3), stride=(1, 1), padding=(1, 1))\n",
            "        (conv2): Conv2d(256, 256, kernel_size=(3, 3), stride=(1, 1), padding=(1, 1))\n",
            "        (bn1): BatchNorm2d(256, eps=1e-05, momentum=0.1, affine=True, track_running_stats=True)\n",
            "        (bn2): BatchNorm2d(256, eps=1e-05, momentum=0.1, affine=True, track_running_stats=True)\n",
            "      )\n",
            "    )\n",
            "  )\n",
            "  (block5): Sequential(\n",
            "    (0): Sequential(\n",
            "      (0): Residual(\n",
            "        (conv1): Conv2d(256, 512, kernel_size=(3, 3), stride=(2, 2), padding=(1, 1))\n",
            "        (conv2): Conv2d(512, 512, kernel_size=(3, 3), stride=(1, 1), padding=(1, 1))\n",
            "        (conv3): Conv2d(256, 512, kernel_size=(1, 1), stride=(2, 2))\n",
            "        (bn1): BatchNorm2d(512, eps=1e-05, momentum=0.1, affine=True, track_running_stats=True)\n",
            "        (bn2): BatchNorm2d(512, eps=1e-05, momentum=0.1, affine=True, track_running_stats=True)\n",
            "      )\n",
            "      (1): Residual(\n",
            "        (conv1): Conv2d(512, 512, kernel_size=(3, 3), stride=(1, 1), padding=(1, 1))\n",
            "        (conv2): Conv2d(512, 512, kernel_size=(3, 3), stride=(1, 1), padding=(1, 1))\n",
            "        (bn1): BatchNorm2d(512, eps=1e-05, momentum=0.1, affine=True, track_running_stats=True)\n",
            "        (bn2): BatchNorm2d(512, eps=1e-05, momentum=0.1, affine=True, track_running_stats=True)\n",
            "      )\n",
            "      (2): Residual(\n",
            "        (conv1): Conv2d(512, 512, kernel_size=(3, 3), stride=(1, 1), padding=(1, 1))\n",
            "        (conv2): Conv2d(512, 512, kernel_size=(3, 3), stride=(1, 1), padding=(1, 1))\n",
            "        (bn1): BatchNorm2d(512, eps=1e-05, momentum=0.1, affine=True, track_running_stats=True)\n",
            "        (bn2): BatchNorm2d(512, eps=1e-05, momentum=0.1, affine=True, track_running_stats=True)\n",
            "      )\n",
            "      (3): Residual(\n",
            "        (conv1): Conv2d(512, 512, kernel_size=(3, 3), stride=(1, 1), padding=(1, 1))\n",
            "        (conv2): Conv2d(512, 512, kernel_size=(3, 3), stride=(1, 1), padding=(1, 1))\n",
            "        (bn1): BatchNorm2d(512, eps=1e-05, momentum=0.1, affine=True, track_running_stats=True)\n",
            "        (bn2): BatchNorm2d(512, eps=1e-05, momentum=0.1, affine=True, track_running_stats=True)\n",
            "      )\n",
            "    )\n",
            "  )\n",
            "  (avgpool): AdaptiveAvgPool2d(output_size=(1, 1))\n",
            "  (fc1): Linear(in_features=512, out_features=1024, bias=True)\n",
            "  (fc2): Linear(in_features=1024, out_features=10, bias=True)\n",
            ")\n",
            "(tensor([[ 0.1567, -0.1563, -0.3065, -0.1002,  0.4056, -0.5453,  0.3054, -0.1631,\n",
            "          0.5351, -0.6909],\n",
            "        [ 0.6192, -0.3985, -0.5669, -0.1529, -0.3048, -0.7835,  0.1964, -0.1424,\n",
            "          0.3692, -0.5359]], device='cuda:0', grad_fn=<AddmmBackward0>), tensor([[0.1151, 0.0842, 0.0724, 0.0890, 0.1476, 0.0570, 0.1336, 0.0836, 0.1681,\n",
            "         0.0493],\n",
            "        [0.2005, 0.0725, 0.0612, 0.0926, 0.0796, 0.0493, 0.1314, 0.0936, 0.1561,\n",
            "         0.0632]], device='cuda:0', grad_fn=<SoftmaxBackward0>))\n"
          ]
        }
      ],
      "source": [
        "X = torch.rand((2, 3, 32, 32)).to(device)\n",
        "model = Resnet23(10).to(device)\n",
        "print(model)\n",
        "y = model(X)\n",
        "print(y)"
      ]
    },
    {
      "cell_type": "code",
      "execution_count": null,
      "metadata": {
        "colab": {
          "base_uri": "https://localhost:8080/"
        },
        "id": "Y9k9FOanjsS4",
        "outputId": "efa430fc-4a47-4b3b-ebad-842ebbe26fc3"
      },
      "outputs": [
        {
          "output_type": "stream",
          "name": "stdout",
          "text": [
            "Adjusting learning rate of group 0 to 1.0000e-02.\n",
            "Epoch: 001/120 | Batch 000/391 | Cost: 2.3941\n",
            "Epoch: 001/120 | Batch 300/391 | Cost: 1.1620\n",
            "Adjusting learning rate of group 0 to 1.0000e-02.\n",
            "Epoch: 001/120 Train Acc.: 53.17% | Validation Acc.: 54.99%\n",
            "Epoch: 002/120 | Batch 000/391 | Cost: 1.3474\n",
            "Epoch: 002/120 | Batch 300/391 | Cost: 0.7503\n",
            "Adjusting learning rate of group 0 to 1.0000e-02.\n",
            "Epoch: 002/120 Train Acc.: 70.86% | Validation Acc.: 70.89%\n",
            "Epoch: 003/120 | Batch 000/391 | Cost: 1.0588\n",
            "Epoch: 003/120 | Batch 300/391 | Cost: 0.6238\n",
            "Adjusting learning rate of group 0 to 1.0000e-02.\n",
            "Epoch: 003/120 Train Acc.: 71.93% | Validation Acc.: 72.81%\n",
            "Epoch: 004/120 | Batch 000/391 | Cost: 0.7688\n",
            "Epoch: 004/120 | Batch 300/391 | Cost: 0.4989\n",
            "Adjusting learning rate of group 0 to 1.0000e-02.\n",
            "Epoch: 004/120 Train Acc.: 78.53% | Validation Acc.: 77.82%\n",
            "Epoch: 005/120 | Batch 000/391 | Cost: 0.5104\n",
            "Epoch: 005/120 | Batch 300/391 | Cost: 0.5735\n",
            "Adjusting learning rate of group 0 to 1.0000e-02.\n",
            "Epoch: 005/120 Train Acc.: 77.95% | Validation Acc.: 76.86%\n",
            "Epoch: 006/120 | Batch 000/391 | Cost: 0.4988\n",
            "Epoch: 006/120 | Batch 300/391 | Cost: 0.6371\n",
            "Adjusting learning rate of group 0 to 1.0000e-02.\n",
            "Epoch: 006/120 Train Acc.: 82.55% | Validation Acc.: 81.09%\n",
            "Epoch: 007/120 | Batch 000/391 | Cost: 0.4535\n",
            "Epoch: 007/120 | Batch 300/391 | Cost: 0.4980\n",
            "Adjusting learning rate of group 0 to 1.0000e-02.\n",
            "Epoch: 007/120 Train Acc.: 83.84% | Validation Acc.: 81.86%\n",
            "Epoch: 008/120 | Batch 000/391 | Cost: 0.5519\n",
            "Epoch: 008/120 | Batch 300/391 | Cost: 0.2986\n",
            "Adjusting learning rate of group 0 to 1.0000e-02.\n",
            "Epoch: 008/120 Train Acc.: 83.69% | Validation Acc.: 81.26%\n",
            "Epoch: 009/120 | Batch 000/391 | Cost: 0.4333\n",
            "Epoch: 009/120 | Batch 300/391 | Cost: 0.3605\n",
            "Adjusting learning rate of group 0 to 1.0000e-02.\n",
            "Epoch: 009/120 Train Acc.: 85.91% | Validation Acc.: 83.63%\n",
            "Epoch: 010/120 | Batch 000/391 | Cost: 0.3951\n",
            "Epoch: 010/120 | Batch 300/391 | Cost: 0.4240\n",
            "Adjusting learning rate of group 0 to 1.0000e-02.\n",
            "Epoch: 010/120 Train Acc.: 87.09% | Validation Acc.: 84.96%\n",
            "Epoch: 011/120 | Batch 000/391 | Cost: 0.3209\n",
            "Epoch: 011/120 | Batch 300/391 | Cost: 0.5043\n",
            "Adjusting learning rate of group 0 to 1.0000e-02.\n",
            "Epoch: 011/120 Train Acc.: 87.62% | Validation Acc.: 84.04%\n",
            "Epoch: 012/120 | Batch 000/391 | Cost: 0.3686\n",
            "Epoch: 012/120 | Batch 300/391 | Cost: 0.2791\n",
            "Adjusting learning rate of group 0 to 1.0000e-02.\n",
            "Epoch: 012/120 Train Acc.: 88.59% | Validation Acc.: 85.65%\n",
            "Epoch: 013/120 | Batch 000/391 | Cost: 0.3379\n",
            "Epoch: 013/120 | Batch 300/391 | Cost: 0.2663\n",
            "Adjusting learning rate of group 0 to 1.0000e-02.\n",
            "Epoch: 013/120 Train Acc.: 86.63% | Validation Acc.: 83.75%\n",
            "Epoch: 014/120 | Batch 000/391 | Cost: 0.3701\n",
            "Epoch: 014/120 | Batch 300/391 | Cost: 0.2429\n",
            "Adjusting learning rate of group 0 to 1.0000e-02.\n",
            "Epoch: 014/120 Train Acc.: 89.49% | Validation Acc.: 85.51%\n",
            "Epoch: 015/120 | Batch 000/391 | Cost: 0.2822\n",
            "Epoch: 015/120 | Batch 300/391 | Cost: 0.3167\n",
            "Adjusting learning rate of group 0 to 1.0000e-02.\n",
            "Epoch: 015/120 Train Acc.: 89.32% | Validation Acc.: 85.39%\n",
            "Epoch: 016/120 | Batch 000/391 | Cost: 0.2486\n",
            "Epoch: 016/120 | Batch 300/391 | Cost: 0.2908\n",
            "Adjusting learning rate of group 0 to 1.0000e-02.\n",
            "Epoch: 016/120 Train Acc.: 90.94% | Validation Acc.: 86.72%\n",
            "Epoch: 017/120 | Batch 000/391 | Cost: 0.2580\n",
            "Epoch: 017/120 | Batch 300/391 | Cost: 0.2228\n",
            "Adjusting learning rate of group 0 to 1.0000e-02.\n",
            "Epoch: 017/120 Train Acc.: 90.09% | Validation Acc.: 86.36%\n",
            "Epoch: 018/120 | Batch 000/391 | Cost: 0.1791\n",
            "Epoch: 018/120 | Batch 300/391 | Cost: 0.2861\n",
            "Adjusting learning rate of group 0 to 1.0000e-02.\n",
            "Epoch: 018/120 Train Acc.: 91.76% | Validation Acc.: 87.22%\n",
            "Epoch: 019/120 | Batch 000/391 | Cost: 0.2007\n",
            "Epoch: 019/120 | Batch 300/391 | Cost: 0.1848\n",
            "Adjusting learning rate of group 0 to 1.0000e-02.\n",
            "Epoch: 019/120 Train Acc.: 91.06% | Validation Acc.: 86.20%\n",
            "Epoch: 020/120 | Batch 000/391 | Cost: 0.2739\n",
            "Epoch: 020/120 | Batch 300/391 | Cost: 0.2048\n",
            "Adjusting learning rate of group 0 to 1.0000e-02.\n",
            "Epoch: 020/120 Train Acc.: 91.78% | Validation Acc.: 86.51%\n",
            "Epoch: 021/120 | Batch 000/391 | Cost: 0.2885\n",
            "Epoch: 021/120 | Batch 300/391 | Cost: 0.3106\n",
            "Adjusting learning rate of group 0 to 1.0000e-02.\n",
            "Epoch: 021/120 Train Acc.: 91.90% | Validation Acc.: 86.79%\n",
            "Epoch: 022/120 | Batch 000/391 | Cost: 0.3197\n",
            "Epoch: 022/120 | Batch 300/391 | Cost: 0.1353\n",
            "Adjusting learning rate of group 0 to 1.0000e-02.\n",
            "Epoch: 022/120 Train Acc.: 93.14% | Validation Acc.: 87.93%\n",
            "Epoch: 023/120 | Batch 000/391 | Cost: 0.3450\n",
            "Epoch: 023/120 | Batch 300/391 | Cost: 0.2930\n",
            "Adjusting learning rate of group 0 to 1.0000e-02.\n",
            "Epoch: 023/120 Train Acc.: 93.09% | Validation Acc.: 87.40%\n",
            "Epoch: 024/120 | Batch 000/391 | Cost: 0.2157\n",
            "Epoch: 024/120 | Batch 300/391 | Cost: 0.1773\n",
            "Adjusting learning rate of group 0 to 1.0000e-02.\n",
            "Epoch: 024/120 Train Acc.: 93.11% | Validation Acc.: 87.32%\n",
            "Epoch: 025/120 | Batch 000/391 | Cost: 0.2143\n",
            "Epoch: 025/120 | Batch 300/391 | Cost: 0.1557\n",
            "Adjusting learning rate of group 0 to 1.0000e-02.\n",
            "Epoch: 025/120 Train Acc.: 93.47% | Validation Acc.: 87.68%\n",
            "Epoch: 026/120 | Batch 000/391 | Cost: 0.2196\n",
            "Epoch: 026/120 | Batch 300/391 | Cost: 0.2006\n",
            "Adjusting learning rate of group 0 to 1.0000e-02.\n",
            "Epoch: 026/120 Train Acc.: 94.25% | Validation Acc.: 88.04%\n",
            "Epoch: 027/120 | Batch 000/391 | Cost: 0.0995\n",
            "Epoch: 027/120 | Batch 300/391 | Cost: 0.1155\n",
            "Adjusting learning rate of group 0 to 1.0000e-02.\n",
            "Epoch: 027/120 Train Acc.: 94.61% | Validation Acc.: 88.29%\n",
            "Epoch: 028/120 | Batch 000/391 | Cost: 0.1696\n",
            "Epoch: 028/120 | Batch 300/391 | Cost: 0.1306\n",
            "Adjusting learning rate of group 0 to 1.0000e-02.\n",
            "Epoch: 028/120 Train Acc.: 93.70% | Validation Acc.: 86.89%\n",
            "Epoch: 029/120 | Batch 000/391 | Cost: 0.1104\n",
            "Epoch: 029/120 | Batch 300/391 | Cost: 0.1992\n",
            "Adjusting learning rate of group 0 to 1.0000e-02.\n",
            "Epoch: 029/120 Train Acc.: 94.95% | Validation Acc.: 88.62%\n",
            "Epoch: 030/120 | Batch 000/391 | Cost: 0.1631\n",
            "Epoch: 030/120 | Batch 300/391 | Cost: 0.1308\n",
            "Adjusting learning rate of group 0 to 1.0000e-02.\n",
            "Epoch: 030/120 Train Acc.: 94.05% | Validation Acc.: 87.40%\n",
            "Epoch: 031/120 | Batch 000/391 | Cost: 0.1577\n",
            "Epoch: 031/120 | Batch 300/391 | Cost: 0.0985\n",
            "Adjusting learning rate of group 0 to 1.0000e-02.\n",
            "Epoch: 031/120 Train Acc.: 94.69% | Validation Acc.: 88.41%\n",
            "Epoch: 032/120 | Batch 000/391 | Cost: 0.1582\n",
            "Epoch: 032/120 | Batch 300/391 | Cost: 0.1352\n",
            "Adjusting learning rate of group 0 to 1.0000e-02.\n",
            "Epoch: 032/120 Train Acc.: 95.24% | Validation Acc.: 88.37%\n",
            "Epoch: 033/120 | Batch 000/391 | Cost: 0.1273\n",
            "Epoch: 033/120 | Batch 300/391 | Cost: 0.2193\n",
            "Adjusting learning rate of group 0 to 1.0000e-02.\n",
            "Epoch: 033/120 Train Acc.: 94.40% | Validation Acc.: 87.70%\n",
            "Epoch: 034/120 | Batch 000/391 | Cost: 0.0970\n",
            "Epoch: 034/120 | Batch 300/391 | Cost: 0.1374\n",
            "Adjusting learning rate of group 0 to 1.0000e-02.\n",
            "Epoch: 034/120 Train Acc.: 95.01% | Validation Acc.: 88.30%\n",
            "Epoch: 035/120 | Batch 000/391 | Cost: 0.1113\n",
            "Epoch: 035/120 | Batch 300/391 | Cost: 0.1011\n",
            "Adjusting learning rate of group 0 to 1.0000e-02.\n",
            "Epoch: 035/120 Train Acc.: 95.60% | Validation Acc.: 88.51%\n",
            "Epoch: 036/120 | Batch 000/391 | Cost: 0.0965\n",
            "Epoch: 036/120 | Batch 300/391 | Cost: 0.1257\n",
            "Adjusting learning rate of group 0 to 1.0000e-02.\n",
            "Epoch: 036/120 Train Acc.: 95.46% | Validation Acc.: 88.19%\n",
            "Epoch: 037/120 | Batch 000/391 | Cost: 0.0703\n",
            "Epoch: 037/120 | Batch 300/391 | Cost: 0.1108\n",
            "Adjusting learning rate of group 0 to 1.0000e-02.\n",
            "Epoch: 037/120 Train Acc.: 95.71% | Validation Acc.: 88.32%\n",
            "Epoch: 038/120 | Batch 000/391 | Cost: 0.0896\n",
            "Epoch: 038/120 | Batch 300/391 | Cost: 0.0929\n",
            "Adjusting learning rate of group 0 to 1.0000e-02.\n",
            "Epoch: 038/120 Train Acc.: 96.35% | Validation Acc.: 89.49%\n",
            "Epoch: 039/120 | Batch 000/391 | Cost: 0.1250\n",
            "Epoch: 039/120 | Batch 300/391 | Cost: 0.0668\n",
            "Adjusting learning rate of group 0 to 1.0000e-02.\n",
            "Epoch: 039/120 Train Acc.: 96.05% | Validation Acc.: 88.90%\n",
            "Epoch: 040/120 | Batch 000/391 | Cost: 0.1188\n",
            "Epoch: 040/120 | Batch 300/391 | Cost: 0.0769\n",
            "Adjusting learning rate of group 0 to 1.0000e-03.\n",
            "Epoch: 040/120 Train Acc.: 96.55% | Validation Acc.: 88.52%\n",
            "Epoch: 041/120 | Batch 000/391 | Cost: 0.0797\n",
            "Epoch: 041/120 | Batch 300/391 | Cost: 0.0782\n",
            "Adjusting learning rate of group 0 to 1.0000e-03.\n",
            "Epoch: 041/120 Train Acc.: 98.30% | Validation Acc.: 90.39%\n",
            "Epoch: 042/120 | Batch 000/391 | Cost: 0.0899\n",
            "Epoch: 042/120 | Batch 300/391 | Cost: 0.0695\n",
            "Adjusting learning rate of group 0 to 1.0000e-03.\n",
            "Epoch: 042/120 Train Acc.: 98.65% | Validation Acc.: 90.43%\n",
            "Epoch: 043/120 | Batch 000/391 | Cost: 0.0594\n",
            "Epoch: 043/120 | Batch 300/391 | Cost: 0.0621\n",
            "Adjusting learning rate of group 0 to 1.0000e-03.\n",
            "Epoch: 043/120 Train Acc.: 98.70% | Validation Acc.: 90.58%\n",
            "Epoch: 044/120 | Batch 000/391 | Cost: 0.0456\n",
            "Epoch: 044/120 | Batch 300/391 | Cost: 0.0395\n",
            "Adjusting learning rate of group 0 to 1.0000e-03.\n",
            "Epoch: 044/120 Train Acc.: 98.80% | Validation Acc.: 90.58%\n",
            "Epoch: 045/120 | Batch 000/391 | Cost: 0.0181\n",
            "Epoch: 045/120 | Batch 300/391 | Cost: 0.0441\n",
            "Adjusting learning rate of group 0 to 1.0000e-03.\n",
            "Epoch: 045/120 Train Acc.: 98.93% | Validation Acc.: 90.88%\n",
            "Epoch: 046/120 | Batch 000/391 | Cost: 0.0874\n",
            "Epoch: 046/120 | Batch 300/391 | Cost: 0.0325\n",
            "Adjusting learning rate of group 0 to 1.0000e-03.\n",
            "Epoch: 046/120 Train Acc.: 98.99% | Validation Acc.: 90.64%\n",
            "Epoch: 047/120 | Batch 000/391 | Cost: 0.0234\n",
            "Epoch: 047/120 | Batch 300/391 | Cost: 0.0110\n",
            "Adjusting learning rate of group 0 to 1.0000e-03.\n",
            "Epoch: 047/120 Train Acc.: 99.01% | Validation Acc.: 90.80%\n",
            "Epoch: 048/120 | Batch 000/391 | Cost: 0.0205\n",
            "Epoch: 048/120 | Batch 300/391 | Cost: 0.0315\n",
            "Adjusting learning rate of group 0 to 1.0000e-03.\n",
            "Epoch: 048/120 Train Acc.: 99.08% | Validation Acc.: 90.68%\n",
            "Epoch: 049/120 | Batch 000/391 | Cost: 0.0303\n",
            "Epoch: 049/120 | Batch 300/391 | Cost: 0.0238\n",
            "Adjusting learning rate of group 0 to 1.0000e-03.\n",
            "Epoch: 049/120 Train Acc.: 99.17% | Validation Acc.: 90.78%\n",
            "Epoch: 050/120 | Batch 000/391 | Cost: 0.0230\n",
            "Epoch: 050/120 | Batch 300/391 | Cost: 0.0210\n",
            "Adjusting learning rate of group 0 to 1.0000e-03.\n",
            "Epoch: 050/120 Train Acc.: 99.16% | Validation Acc.: 90.80%\n",
            "Epoch: 051/120 | Batch 000/391 | Cost: 0.0628\n",
            "Epoch: 051/120 | Batch 300/391 | Cost: 0.0633\n",
            "Adjusting learning rate of group 0 to 1.0000e-03.\n",
            "Epoch: 051/120 Train Acc.: 99.23% | Validation Acc.: 90.74%\n",
            "Epoch: 052/120 | Batch 000/391 | Cost: 0.0226\n",
            "Epoch: 052/120 | Batch 300/391 | Cost: 0.0153\n",
            "Adjusting learning rate of group 0 to 1.0000e-03.\n",
            "Epoch: 052/120 Train Acc.: 99.22% | Validation Acc.: 90.63%\n",
            "Epoch: 053/120 | Batch 000/391 | Cost: 0.0124\n",
            "Epoch: 053/120 | Batch 300/391 | Cost: 0.0125\n",
            "Adjusting learning rate of group 0 to 1.0000e-03.\n",
            "Epoch: 053/120 Train Acc.: 99.26% | Validation Acc.: 90.83%\n",
            "Epoch: 054/120 | Batch 000/391 | Cost: 0.0140\n",
            "Epoch: 054/120 | Batch 300/391 | Cost: 0.0090\n",
            "Adjusting learning rate of group 0 to 1.0000e-03.\n",
            "Epoch: 054/120 Train Acc.: 99.30% | Validation Acc.: 90.65%\n",
            "Epoch: 055/120 | Batch 000/391 | Cost: 0.0201\n",
            "Epoch: 055/120 | Batch 300/391 | Cost: 0.0221\n",
            "Adjusting learning rate of group 0 to 1.0000e-03.\n",
            "Epoch: 055/120 Train Acc.: 99.33% | Validation Acc.: 90.81%\n",
            "Epoch: 056/120 | Batch 000/391 | Cost: 0.0106\n",
            "Epoch: 056/120 | Batch 300/391 | Cost: 0.0110\n",
            "Adjusting learning rate of group 0 to 1.0000e-03.\n",
            "Epoch: 056/120 Train Acc.: 99.41% | Validation Acc.: 90.58%\n",
            "Epoch: 057/120 | Batch 000/391 | Cost: 0.0128\n",
            "Epoch: 057/120 | Batch 300/391 | Cost: 0.0391\n",
            "Adjusting learning rate of group 0 to 1.0000e-03.\n",
            "Epoch: 057/120 Train Acc.: 99.38% | Validation Acc.: 90.84%\n",
            "Epoch: 058/120 | Batch 000/391 | Cost: 0.0063\n",
            "Epoch: 058/120 | Batch 300/391 | Cost: 0.0315\n",
            "Adjusting learning rate of group 0 to 1.0000e-03.\n",
            "Epoch: 058/120 Train Acc.: 99.42% | Validation Acc.: 90.77%\n",
            "Epoch: 059/120 | Batch 000/391 | Cost: 0.0168\n",
            "Epoch: 059/120 | Batch 300/391 | Cost: 0.0246\n",
            "Adjusting learning rate of group 0 to 1.0000e-03.\n",
            "Epoch: 059/120 Train Acc.: 99.40% | Validation Acc.: 90.81%\n",
            "Epoch: 060/120 | Batch 000/391 | Cost: 0.0524\n",
            "Epoch: 060/120 | Batch 300/391 | Cost: 0.0244\n",
            "Adjusting learning rate of group 0 to 1.0000e-03.\n",
            "Epoch: 060/120 Train Acc.: 99.45% | Validation Acc.: 90.59%\n",
            "Epoch: 061/120 | Batch 000/391 | Cost: 0.0040\n",
            "Epoch: 061/120 | Batch 300/391 | Cost: 0.0088\n",
            "Adjusting learning rate of group 0 to 1.0000e-03.\n",
            "Epoch: 061/120 Train Acc.: 99.49% | Validation Acc.: 90.74%\n",
            "Epoch: 062/120 | Batch 000/391 | Cost: 0.0033\n",
            "Epoch: 062/120 | Batch 300/391 | Cost: 0.0192\n",
            "Adjusting learning rate of group 0 to 1.0000e-03.\n",
            "Epoch: 062/120 Train Acc.: 99.49% | Validation Acc.: 90.75%\n",
            "Epoch: 063/120 | Batch 000/391 | Cost: 0.0183\n",
            "Epoch: 063/120 | Batch 300/391 | Cost: 0.0034\n",
            "Adjusting learning rate of group 0 to 1.0000e-03.\n",
            "Epoch: 063/120 Train Acc.: 99.51% | Validation Acc.: 90.74%\n",
            "Epoch: 064/120 | Batch 000/391 | Cost: 0.0466\n",
            "Epoch: 064/120 | Batch 300/391 | Cost: 0.0375\n",
            "Adjusting learning rate of group 0 to 1.0000e-03.\n",
            "Epoch: 064/120 Train Acc.: 99.51% | Validation Acc.: 90.78%\n",
            "Epoch: 065/120 | Batch 000/391 | Cost: 0.0306\n",
            "Epoch: 065/120 | Batch 300/391 | Cost: 0.0065\n",
            "Adjusting learning rate of group 0 to 1.0000e-03.\n",
            "Epoch: 065/120 Train Acc.: 99.47% | Validation Acc.: 90.83%\n",
            "Epoch: 066/120 | Batch 000/391 | Cost: 0.0034\n",
            "Epoch: 066/120 | Batch 300/391 | Cost: 0.0674\n",
            "Adjusting learning rate of group 0 to 1.0000e-03.\n",
            "Epoch: 066/120 Train Acc.: 99.50% | Validation Acc.: 90.63%\n",
            "Epoch: 067/120 | Batch 000/391 | Cost: 0.0313\n",
            "Epoch: 067/120 | Batch 300/391 | Cost: 0.0266\n",
            "Adjusting learning rate of group 0 to 1.0000e-03.\n",
            "Epoch: 067/120 Train Acc.: 99.56% | Validation Acc.: 90.83%\n",
            "Epoch: 068/120 | Batch 000/391 | Cost: 0.0235\n",
            "Epoch: 068/120 | Batch 300/391 | Cost: 0.0287\n",
            "Adjusting learning rate of group 0 to 1.0000e-03.\n",
            "Epoch: 068/120 Train Acc.: 99.57% | Validation Acc.: 90.75%\n",
            "Epoch: 069/120 | Batch 000/391 | Cost: 0.0066\n",
            "Epoch: 069/120 | Batch 300/391 | Cost: 0.0284\n",
            "Adjusting learning rate of group 0 to 1.0000e-03.\n",
            "Epoch: 069/120 Train Acc.: 99.54% | Validation Acc.: 90.87%\n",
            "Epoch: 070/120 | Batch 000/391 | Cost: 0.0315\n",
            "Epoch: 070/120 | Batch 300/391 | Cost: 0.0043\n",
            "Adjusting learning rate of group 0 to 1.0000e-03.\n",
            "Epoch: 070/120 Train Acc.: 99.58% | Validation Acc.: 90.85%\n",
            "Epoch: 071/120 | Batch 000/391 | Cost: 0.0067\n",
            "Epoch: 071/120 | Batch 300/391 | Cost: 0.0025\n",
            "Adjusting learning rate of group 0 to 1.0000e-03.\n",
            "Epoch: 071/120 Train Acc.: 99.54% | Validation Acc.: 90.81%\n",
            "Epoch: 072/120 | Batch 000/391 | Cost: 0.0025\n",
            "Epoch: 072/120 | Batch 300/391 | Cost: 0.0266\n",
            "Adjusting learning rate of group 0 to 1.0000e-03.\n",
            "Epoch: 072/120 Train Acc.: 99.60% | Validation Acc.: 90.73%\n",
            "Epoch: 073/120 | Batch 000/391 | Cost: 0.0013\n",
            "Epoch: 073/120 | Batch 300/391 | Cost: 0.0041\n",
            "Adjusting learning rate of group 0 to 1.0000e-03.\n",
            "Epoch: 073/120 Train Acc.: 99.53% | Validation Acc.: 90.71%\n",
            "Epoch: 074/120 | Batch 000/391 | Cost: 0.0052\n",
            "Epoch: 074/120 | Batch 300/391 | Cost: 0.0009\n",
            "Adjusting learning rate of group 0 to 1.0000e-03.\n",
            "Epoch: 074/120 Train Acc.: 99.65% | Validation Acc.: 90.78%\n",
            "Epoch: 075/120 | Batch 000/391 | Cost: 0.0079\n",
            "Epoch: 075/120 | Batch 300/391 | Cost: 0.0463\n",
            "Adjusting learning rate of group 0 to 1.0000e-03.\n",
            "Epoch: 075/120 Train Acc.: 99.66% | Validation Acc.: 90.83%\n",
            "Epoch: 076/120 | Batch 000/391 | Cost: 0.0184\n",
            "Epoch: 076/120 | Batch 300/391 | Cost: 0.0036\n",
            "Adjusting learning rate of group 0 to 1.0000e-03.\n",
            "Epoch: 076/120 Train Acc.: 99.63% | Validation Acc.: 90.79%\n",
            "Epoch: 077/120 | Batch 000/391 | Cost: 0.0090\n",
            "Epoch: 077/120 | Batch 300/391 | Cost: 0.0037\n",
            "Adjusting learning rate of group 0 to 1.0000e-03.\n",
            "Epoch: 077/120 Train Acc.: 99.63% | Validation Acc.: 90.85%\n",
            "Epoch: 078/120 | Batch 000/391 | Cost: 0.0056\n",
            "Epoch: 078/120 | Batch 300/391 | Cost: 0.0151\n",
            "Adjusting learning rate of group 0 to 1.0000e-03.\n",
            "Epoch: 078/120 Train Acc.: 99.66% | Validation Acc.: 90.90%\n",
            "Epoch: 079/120 | Batch 000/391 | Cost: 0.0009\n",
            "Epoch: 079/120 | Batch 300/391 | Cost: 0.0194\n",
            "Adjusting learning rate of group 0 to 1.0000e-03.\n",
            "Epoch: 079/120 Train Acc.: 99.66% | Validation Acc.: 90.79%\n",
            "Epoch: 080/120 | Batch 000/391 | Cost: 0.0043\n",
            "Epoch: 080/120 | Batch 300/391 | Cost: 0.0272\n",
            "Adjusting learning rate of group 0 to 1.0000e-04.\n",
            "Epoch: 080/120 Train Acc.: 99.66% | Validation Acc.: 90.83%\n",
            "Epoch: 081/120 | Batch 000/391 | Cost: 0.0203\n",
            "Epoch: 081/120 | Batch 300/391 | Cost: 0.0031\n",
            "Adjusting learning rate of group 0 to 1.0000e-04.\n",
            "Epoch: 081/120 Train Acc.: 99.70% | Validation Acc.: 90.85%\n",
            "Epoch: 082/120 | Batch 000/391 | Cost: 0.0345\n",
            "Epoch: 082/120 | Batch 300/391 | Cost: 0.0160\n",
            "Adjusting learning rate of group 0 to 1.0000e-04.\n",
            "Epoch: 082/120 Train Acc.: 99.71% | Validation Acc.: 91.01%\n",
            "Epoch: 083/120 | Batch 000/391 | Cost: 0.0045\n",
            "Epoch: 083/120 | Batch 300/391 | Cost: 0.0052\n",
            "Adjusting learning rate of group 0 to 1.0000e-04.\n",
            "Epoch: 083/120 Train Acc.: 99.69% | Validation Acc.: 91.05%\n",
            "Epoch: 084/120 | Batch 000/391 | Cost: 0.0032\n",
            "Epoch: 084/120 | Batch 300/391 | Cost: 0.0058\n",
            "Adjusting learning rate of group 0 to 1.0000e-04.\n",
            "Epoch: 084/120 Train Acc.: 99.74% | Validation Acc.: 90.93%\n",
            "Epoch: 085/120 | Batch 000/391 | Cost: 0.0069\n",
            "Epoch: 085/120 | Batch 300/391 | Cost: 0.0071\n",
            "Adjusting learning rate of group 0 to 1.0000e-04.\n",
            "Epoch: 085/120 Train Acc.: 99.74% | Validation Acc.: 90.91%\n",
            "Epoch: 086/120 | Batch 000/391 | Cost: 0.0067\n",
            "Epoch: 086/120 | Batch 300/391 | Cost: 0.0081\n",
            "Adjusting learning rate of group 0 to 1.0000e-04.\n",
            "Epoch: 086/120 Train Acc.: 99.78% | Validation Acc.: 90.97%\n",
            "Epoch: 087/120 | Batch 000/391 | Cost: 0.0033\n",
            "Epoch: 087/120 | Batch 300/391 | Cost: 0.0388\n",
            "Adjusting learning rate of group 0 to 1.0000e-04.\n",
            "Epoch: 087/120 Train Acc.: 99.69% | Validation Acc.: 91.02%\n",
            "Epoch: 088/120 | Batch 000/391 | Cost: 0.0090\n",
            "Epoch: 088/120 | Batch 300/391 | Cost: 0.0549\n",
            "Adjusting learning rate of group 0 to 1.0000e-04.\n",
            "Epoch: 088/120 Train Acc.: 99.75% | Validation Acc.: 90.93%\n",
            "Epoch: 089/120 | Batch 000/391 | Cost: 0.0119\n",
            "Epoch: 089/120 | Batch 300/391 | Cost: 0.0075\n",
            "Adjusting learning rate of group 0 to 1.0000e-04.\n",
            "Epoch: 089/120 Train Acc.: 99.76% | Validation Acc.: 91.00%\n",
            "Epoch: 090/120 | Batch 000/391 | Cost: 0.0070\n",
            "Epoch: 090/120 | Batch 300/391 | Cost: 0.0090\n",
            "Adjusting learning rate of group 0 to 1.0000e-04.\n",
            "Epoch: 090/120 Train Acc.: 99.73% | Validation Acc.: 90.99%\n",
            "Epoch: 091/120 | Batch 000/391 | Cost: 0.0013\n",
            "Epoch: 091/120 | Batch 300/391 | Cost: 0.0061\n",
            "Adjusting learning rate of group 0 to 1.0000e-04.\n",
            "Epoch: 091/120 Train Acc.: 99.75% | Validation Acc.: 91.06%\n",
            "Epoch: 092/120 | Batch 000/391 | Cost: 0.0071\n",
            "Epoch: 092/120 | Batch 300/391 | Cost: 0.0032\n",
            "Adjusting learning rate of group 0 to 1.0000e-04.\n",
            "Epoch: 092/120 Train Acc.: 99.79% | Validation Acc.: 90.93%\n",
            "Epoch: 093/120 | Batch 000/391 | Cost: 0.0108\n",
            "Epoch: 093/120 | Batch 300/391 | Cost: 0.0094\n",
            "Adjusting learning rate of group 0 to 1.0000e-04.\n",
            "Epoch: 093/120 Train Acc.: 99.76% | Validation Acc.: 90.91%\n",
            "Epoch: 094/120 | Batch 000/391 | Cost: 0.0066\n",
            "Epoch: 094/120 | Batch 300/391 | Cost: 0.0283\n",
            "Adjusting learning rate of group 0 to 1.0000e-04.\n",
            "Epoch: 094/120 Train Acc.: 99.80% | Validation Acc.: 91.09%\n",
            "Epoch: 095/120 | Batch 000/391 | Cost: 0.0209\n",
            "Epoch: 095/120 | Batch 300/391 | Cost: 0.0046\n",
            "Adjusting learning rate of group 0 to 1.0000e-04.\n",
            "Epoch: 095/120 Train Acc.: 99.79% | Validation Acc.: 91.02%\n",
            "Epoch: 096/120 | Batch 000/391 | Cost: 0.0153\n",
            "Epoch: 096/120 | Batch 300/391 | Cost: 0.0261\n",
            "Adjusting learning rate of group 0 to 1.0000e-04.\n",
            "Epoch: 096/120 Train Acc.: 99.77% | Validation Acc.: 91.07%\n",
            "Epoch: 097/120 | Batch 000/391 | Cost: 0.0095\n",
            "Epoch: 097/120 | Batch 300/391 | Cost: 0.0025\n",
            "Adjusting learning rate of group 0 to 1.0000e-04.\n",
            "Epoch: 097/120 Train Acc.: 99.76% | Validation Acc.: 90.97%\n",
            "Epoch: 098/120 | Batch 000/391 | Cost: 0.0064\n",
            "Epoch: 098/120 | Batch 300/391 | Cost: 0.0084\n",
            "Adjusting learning rate of group 0 to 1.0000e-04.\n",
            "Epoch: 098/120 Train Acc.: 99.82% | Validation Acc.: 90.93%\n",
            "Epoch: 099/120 | Batch 000/391 | Cost: 0.0023\n",
            "Epoch: 099/120 | Batch 300/391 | Cost: 0.0029\n",
            "Adjusting learning rate of group 0 to 1.0000e-04.\n",
            "Epoch: 099/120 Train Acc.: 99.77% | Validation Acc.: 90.91%\n",
            "Epoch: 100/120 | Batch 000/391 | Cost: 0.0109\n",
            "Epoch: 100/120 | Batch 300/391 | Cost: 0.0070\n",
            "Adjusting learning rate of group 0 to 1.0000e-04.\n",
            "Epoch: 100/120 Train Acc.: 99.77% | Validation Acc.: 90.87%\n",
            "Epoch: 101/120 | Batch 000/391 | Cost: 0.0668\n",
            "Epoch: 101/120 | Batch 300/391 | Cost: 0.0106\n",
            "Adjusting learning rate of group 0 to 1.0000e-04.\n",
            "Epoch: 101/120 Train Acc.: 99.79% | Validation Acc.: 90.97%\n",
            "Epoch: 102/120 | Batch 000/391 | Cost: 0.0011\n",
            "Epoch: 102/120 | Batch 300/391 | Cost: 0.0024\n",
            "Adjusting learning rate of group 0 to 1.0000e-04.\n",
            "Epoch: 102/120 Train Acc.: 99.77% | Validation Acc.: 90.90%\n",
            "Epoch: 103/120 | Batch 000/391 | Cost: 0.0200\n",
            "Epoch: 103/120 | Batch 300/391 | Cost: 0.0108\n",
            "Adjusting learning rate of group 0 to 1.0000e-04.\n",
            "Epoch: 103/120 Train Acc.: 99.80% | Validation Acc.: 90.90%\n",
            "Epoch: 104/120 | Batch 000/391 | Cost: 0.0054\n",
            "Epoch: 104/120 | Batch 300/391 | Cost: 0.0212\n",
            "Adjusting learning rate of group 0 to 1.0000e-04.\n",
            "Epoch: 104/120 Train Acc.: 99.77% | Validation Acc.: 90.99%\n",
            "Epoch: 105/120 | Batch 000/391 | Cost: 0.0029\n",
            "Epoch: 105/120 | Batch 300/391 | Cost: 0.0032\n",
            "Adjusting learning rate of group 0 to 1.0000e-04.\n",
            "Epoch: 105/120 Train Acc.: 99.79% | Validation Acc.: 91.01%\n",
            "Epoch: 106/120 | Batch 000/391 | Cost: 0.0015\n",
            "Epoch: 106/120 | Batch 300/391 | Cost: 0.0111\n",
            "Adjusting learning rate of group 0 to 1.0000e-04.\n",
            "Epoch: 106/120 Train Acc.: 99.82% | Validation Acc.: 90.79%\n",
            "Epoch: 107/120 | Batch 000/391 | Cost: 0.0023\n",
            "Epoch: 107/120 | Batch 300/391 | Cost: 0.0027\n",
            "Adjusting learning rate of group 0 to 1.0000e-04.\n",
            "Epoch: 107/120 Train Acc.: 99.77% | Validation Acc.: 90.97%\n",
            "Epoch: 108/120 | Batch 000/391 | Cost: 0.0071\n",
            "Epoch: 108/120 | Batch 300/391 | Cost: 0.0028\n",
            "Adjusting learning rate of group 0 to 1.0000e-04.\n",
            "Epoch: 108/120 Train Acc.: 99.78% | Validation Acc.: 91.02%\n",
            "Epoch: 109/120 | Batch 000/391 | Cost: 0.0017\n",
            "Epoch: 109/120 | Batch 300/391 | Cost: 0.0179\n",
            "Adjusting learning rate of group 0 to 1.0000e-04.\n",
            "Epoch: 109/120 Train Acc.: 99.78% | Validation Acc.: 90.91%\n",
            "Epoch: 110/120 | Batch 000/391 | Cost: 0.0068\n",
            "Epoch: 110/120 | Batch 300/391 | Cost: 0.0047\n",
            "Adjusting learning rate of group 0 to 1.0000e-04.\n",
            "Epoch: 110/120 Train Acc.: 99.75% | Validation Acc.: 90.95%\n",
            "Epoch: 111/120 | Batch 000/391 | Cost: 0.0238\n",
            "Epoch: 111/120 | Batch 300/391 | Cost: 0.0110\n",
            "Adjusting learning rate of group 0 to 1.0000e-04.\n",
            "Epoch: 111/120 Train Acc.: 99.81% | Validation Acc.: 91.02%\n",
            "Epoch: 112/120 | Batch 000/391 | Cost: 0.0022\n",
            "Epoch: 112/120 | Batch 300/391 | Cost: 0.0198\n",
            "Adjusting learning rate of group 0 to 1.0000e-04.\n",
            "Epoch: 112/120 Train Acc.: 99.79% | Validation Acc.: 90.92%\n",
            "Epoch: 113/120 | Batch 000/391 | Cost: 0.0327\n",
            "Epoch: 113/120 | Batch 300/391 | Cost: 0.0087\n",
            "Adjusting learning rate of group 0 to 1.0000e-04.\n",
            "Epoch: 113/120 Train Acc.: 99.80% | Validation Acc.: 91.01%\n",
            "Epoch: 114/120 | Batch 000/391 | Cost: 0.0071\n",
            "Epoch: 114/120 | Batch 300/391 | Cost: 0.0053\n",
            "Adjusting learning rate of group 0 to 1.0000e-04.\n",
            "Epoch: 114/120 Train Acc.: 99.80% | Validation Acc.: 91.05%\n",
            "Epoch: 115/120 | Batch 000/391 | Cost: 0.0019\n",
            "Epoch: 115/120 | Batch 300/391 | Cost: 0.0404\n",
            "Adjusting learning rate of group 0 to 1.0000e-04.\n",
            "Epoch: 115/120 Train Acc.: 99.80% | Validation Acc.: 91.02%\n",
            "Epoch: 116/120 | Batch 000/391 | Cost: 0.0022\n",
            "Epoch: 116/120 | Batch 300/391 | Cost: 0.0049\n",
            "Adjusting learning rate of group 0 to 1.0000e-04.\n",
            "Epoch: 116/120 Train Acc.: 99.79% | Validation Acc.: 90.94%\n",
            "Epoch: 117/120 | Batch 000/391 | Cost: 0.0116\n",
            "Epoch: 117/120 | Batch 300/391 | Cost: 0.0017\n",
            "Adjusting learning rate of group 0 to 1.0000e-04.\n",
            "Epoch: 117/120 Train Acc.: 99.78% | Validation Acc.: 91.01%\n",
            "Epoch: 118/120 | Batch 000/391 | Cost: 0.0032\n",
            "Epoch: 118/120 | Batch 300/391 | Cost: 0.0231\n",
            "Adjusting learning rate of group 0 to 1.0000e-04.\n",
            "Epoch: 118/120 Train Acc.: 99.81% | Validation Acc.: 91.00%\n",
            "Epoch: 119/120 | Batch 000/391 | Cost: 0.0072\n",
            "Epoch: 119/120 | Batch 300/391 | Cost: 0.0047\n",
            "Adjusting learning rate of group 0 to 1.0000e-04.\n",
            "Epoch: 119/120 Train Acc.: 99.80% | Validation Acc.: 90.96%\n",
            "Epoch: 120/120 | Batch 000/391 | Cost: 0.0177\n",
            "Epoch: 120/120 | Batch 300/391 | Cost: 0.0446\n",
            "Adjusting learning rate of group 0 to 1.0000e-05.\n",
            "Epoch: 120/120 Train Acc.: 99.82% | Validation Acc.: 90.96%\n",
            "\n",
            "Duration: 4910 seconds\n"
          ]
        }
      ],
      "source": [
        "learning_rate = 0.01\n",
        "\n",
        "optimizer = torch.optim.SGD(model.parameters(), lr=learning_rate, momentum=0.9, nesterov=True)\n",
        "# optimizer = optim.Adam(model.parameters(), lr=1e-3)\n",
        "# optimizer = optim.SGD(model.parameters(), lr=1e-3, momentum=0.9, weight_decay=5e-4)\n",
        "scheduler = torch.optim.lr_scheduler.StepLR(optimizer, step_size=40, gamma=0.1, verbose = True)\n",
        "def compute_accuracy_and_loss(model, data_loader, device):\n",
        "    correct_pred, num_examples = 0, 0\n",
        "    cross_entropy = 0.\n",
        "    for i, (features, targets) in enumerate(data_loader):\n",
        "            \n",
        "        features = features.to(device)\n",
        "        targets = targets.to(device)\n",
        "\n",
        "        logits, probas = model(features)\n",
        "        cross_entropy += F.cross_entropy(logits, targets).item()\n",
        "        _, predicted_labels = torch.max(probas, 1)\n",
        "        num_examples += targets.size(0)\n",
        "        correct_pred += (predicted_labels == targets).sum()\n",
        "    return correct_pred.float()/num_examples * 100, cross_entropy/num_examples\n",
        "    \n",
        "\n",
        "import time\n",
        "start_time = time.time()\n",
        "\n",
        "epochs = 120\n",
        "train_losses = []\n",
        "val_losses = []\n",
        "train_accs = []\n",
        "val_accs = []\n",
        "\n",
        "\n",
        "for i in range(epochs):\n",
        "    model.train()\n",
        "    \n",
        "    # Run the training batches\n",
        "    for batch_idx, (X_train, y_train) in enumerate(train_loader):#50000/64 = 782 batches\n",
        "\n",
        "        X_train, y_train = X_train.to(device), y_train.to(device)\n",
        "        # Apply the model\n",
        "        logits, probas = model(X_train)\n",
        "        loss = F.cross_entropy(logits, y_train)\n",
        "        \n",
        "        # Update parameters\n",
        "        optimizer.zero_grad()\n",
        "        loss.backward()\n",
        "        optimizer.step()\n",
        "        \n",
        "        if not batch_idx % 300:\n",
        "            print (f'Epoch: {i+1:03d}/{epochs:03d} | '\n",
        "                   f'Batch {batch_idx:03d}/{len(train_loader):03d} |' \n",
        "                   f' Cost: {loss:.4f}')\n",
        "        \n",
        "    scheduler.step()\n",
        "    model.eval()\n",
        "    # Run the testing batches\n",
        "    with torch.no_grad():\n",
        "        train_acc, train_loss = compute_accuracy_and_loss(model, train_loader, device=device)\n",
        "        valid_acc, valid_loss = compute_accuracy_and_loss(model, valid_loader, device=device)\n",
        "        train_accs.append(train_acc)\n",
        "        val_accs.append(valid_acc)\n",
        "        train_losses.append(train_loss)\n",
        "        val_losses.append(valid_loss)\n",
        "        print(f'Epoch: {i+1:03d}/{epochs:03d} Train Acc.: {train_acc:.2f}%'\n",
        "              f' | Validation Acc.: {valid_acc:.2f}%')\n",
        "print(f'\\nDuration: {time.time() - start_time:.0f} seconds') # print the time elapsed         "
      ]
    },
    {
      "cell_type": "code",
      "execution_count": null,
      "metadata": {
        "colab": {
          "base_uri": "https://localhost:8080/"
        },
        "id": "b6VZy0GEshrI",
        "outputId": "b4fc933e-ad2a-4985-9f34-b9c003f89a6f"
      },
      "outputs": [
        {
          "output_type": "stream",
          "name": "stdout",
          "text": [
            "Test accuracy: 90.96%\n"
          ]
        }
      ],
      "source": [
        "model.eval()\n",
        "with torch.set_grad_enabled(False): # save memory during inference\n",
        "    test_acc, test_loss = compute_accuracy_and_loss(model, test_loader, device)\n",
        "    print(f'Test accuracy: {test_acc:.2f}%')"
      ]
    },
    {
      "cell_type": "code",
      "execution_count": null,
      "metadata": {
        "colab": {
          "base_uri": "https://localhost:8080/",
          "height": 295
        },
        "id": "f2eXmDILtQA8",
        "outputId": "f6af8a33-9302-493a-e200-77463c1980ab"
      },
      "outputs": [
        {
          "output_type": "display_data",
          "data": {
            "image/png": "[encoded data removed]",
            "text/plain": [
              "<Figure size 432x288 with 1 Axes>"
            ]
          },
          "metadata": {
            "needs_background": "light"
          }
        }
      ],
      "source": [
        "plt.plot(range(1, epochs+1), train_losses, label='Training loss')\n",
        "plt.plot(range(1, epochs+1), val_losses, label='Validation loss')\n",
        "plt.title('Loss at the end of each epoch')\n",
        "plt.xlabel('epochs')\n",
        "plt.legend();"
      ]
    },
    {
      "cell_type": "code",
      "execution_count": null,
      "metadata": {
        "colab": {
          "base_uri": "https://localhost:8080/",
          "height": 313
        },
        "id": "K36nTsbAtep5",
        "outputId": "2712e03c-ccb8-451c-f200-4dc5777b35ab"
      },
      "outputs": [
        {
          "output_type": "execute_result",
          "data": {
            "text/plain": [
              "<matplotlib.legend.Legend at 0x7f8d48089d50>"
            ]
          },
          "metadata": {},
          "execution_count": 99
        },
        {
          "output_type": "display_data",
          "data": {
            "image/png": "[encoded data removed]",
            "text/plain": [
              "<Figure size 432x288 with 1 Axes>"
            ]
          },
          "metadata": {
            "needs_background": "light"
          }
        }
      ],
      "source": [
        "plt.plot(range(1, epochs+1), train_accs, label='Training accuracy')\n",
        "plt.plot(range(1, epochs+1), val_accs, label='Validation accuracy')\n",
        "plt.title('Accuracy at the end of each epoch')\n",
        "plt.xlabel('epochs')\n",
        "plt.legend()"
      ]
    }
  ],
  "metadata": {
    "accelerator": "GPU",
    "colab": {
      "collapsed_sections": [],
      "machine_shape": "hm",
      "name": "ResNet23.ipynb",
      "provenance": []
    },
    "kernelspec": {
      "display_name": "Python 3",
      "name": "python3"
    },
    "language_info": {
      "name": "python"
    }
  },
  "nbformat": 4,
  "nbformat_minor": 0
}